{
 "cells": [
  {
   "metadata": {},
   "cell_type": "markdown",
   "source": "# Buffer1",
   "id": "5ce5c73e96b46d31"
  },
  {
   "cell_type": "code",
   "id": "initial_id",
   "metadata": {
    "collapsed": true,
    "ExecuteTime": {
     "end_time": "2025-08-13T05:46:53.472752Z",
     "start_time": "2025-08-13T05:46:53.211737Z"
    }
   },
   "source": "import pandas as pd",
   "outputs": [],
   "execution_count": 1
  },
  {
   "metadata": {
    "ExecuteTime": {
     "end_time": "2025-08-13T05:50:05.152494Z",
     "start_time": "2025-08-13T05:49:58.717686Z"
    }
   },
   "cell_type": "code",
   "source": [
    "merged_data=pd.read_csv('../data/processed/well_pchip.csv')\n",
    "gage_to_wells_df = pd.read_csv('../data/processed/wells_with_catchment_info.csv')"
   ],
   "id": "3ced3e6889c9e995",
   "outputs": [],
   "execution_count": 2
  },
  {
   "metadata": {
    "ExecuteTime": {
     "end_time": "2025-08-13T05:50:35.482826Z",
     "start_time": "2025-08-13T05:50:35.470431Z"
    }
   },
   "cell_type": "code",
   "source": [
    "import pandas as pd\n",
    "\n",
    "# Assuming gage_to_wells_df is already loaded\n",
    "# Convert all column names to lowercase\n",
    "gage_to_wells_df.columns = gage_to_wells_df.columns.str.lower()\n",
    "\n",
    "# Drop the specified columns\n",
    "gage_to_wells_df.drop(columns=['name', 'river', 'state', 'aquifer_na'], inplace=True, errors='ignore')\n",
    "\n",
    "# Rename the specified columns\n",
    "gage_to_wells_df.rename(columns={\n",
    "    'latitude': 'gage_lat',\n",
    "    'longitude': 'gage_lon',\n",
    "    'lat_dec': 'well_lat',\n",
    "    'long_dec': 'well_lon'\n",
    "}, inplace=True)\n",
    "\n",
    "# Display the updated DataFrame\n",
    "print(gage_to_wells_df.head())\n"
   ],
   "id": "1c7f2eb9c56f7013",
   "outputs": [
    {
     "name": "stdout",
     "output_type": "stream",
     "text": [
      "        well_id          well_name   well_lat    well_lon     gse  \\\n",
      "0  3.946181e+14  (D-12- 4)16ccb- 1  39.771627 -111.488248  5980.0   \n",
      "1  3.946341e+14  (D-12- 4)16bcc- 1  39.776071 -111.488248  5960.0   \n",
      "2  3.946431e+14  (D-12- 4)16bcb- 1  39.778571 -111.487970  5955.0   \n",
      "3  3.946491e+14  (D-12- 4)17abd- 1  39.780238 -111.494915  5938.0   \n",
      "4  3.947461e+14  (D-12- 4) 9bab- 1  39.796071 -111.482970  5977.0   \n",
      "\n",
      "                           geometry  catchment_id     gage_id  \\\n",
      "0   POINT (-111.4882484 39.7716267)   710648999.0  10152000.0   \n",
      "1   POINT (-111.4882483 39.7760711)   710647014.0  10152000.0   \n",
      "2  POINT (-111.4879704 39.77857106)   710647014.0  10152000.0   \n",
      "3  POINT (-111.4949154 39.78023766)   710549798.0  10152000.0   \n",
      "4  POINT (-111.4829697 39.79607075)   710647014.0  10152000.0   \n",
      "\n",
      "                             gage_name  \n",
      "0  SPANISH FORK NEAR LAKE SHORE - UTAH  \n",
      "1  SPANISH FORK NEAR LAKE SHORE - UTAH  \n",
      "2  SPANISH FORK NEAR LAKE SHORE - UTAH  \n",
      "3  SPANISH FORK NEAR LAKE SHORE - UTAH  \n",
      "4  SPANISH FORK NEAR LAKE SHORE - UTAH  \n"
     ]
    }
   ],
   "execution_count": 3
  },
  {
   "metadata": {
    "ExecuteTime": {
     "end_time": "2025-08-13T05:50:48.708241Z",
     "start_time": "2025-08-13T05:50:48.484420Z"
    }
   },
   "cell_type": "code",
   "source": "well_pchip=merged_data.copy()",
   "id": "e65a5ea243e3e0d8",
   "outputs": [],
   "execution_count": 4
  },
  {
   "metadata": {
    "ExecuteTime": {
     "end_time": "2025-08-13T05:51:29.437958Z",
     "start_time": "2025-08-13T05:51:28.739097Z"
    }
   },
   "cell_type": "code",
   "source": [
    "import pandas as pd\n",
    "\n",
    "# Assuming well_pchip and gage_to_wells_df are already loaded\n",
    "# Perform an inner merge to filter and combine the data based on 'well_id'\n",
    "filtered_data = pd.merge(\n",
    "    well_pchip,\n",
    "    gage_to_wells_df[['gage_id', 'well_id', 'well_lat', 'well_lon']],\n",
    "    on='well_id',\n",
    "    how='inner'\n",
    ")\n",
    "\n",
    "# Drop the duplicate columns with suffixes\n",
    "filtered_data.drop(columns=['well_lat_x', 'well_lon_x'], inplace=True)\n",
    "\n",
    "# Optionally, rename the remaining columns if needed\n",
    "filtered_data.rename(columns={'well_lat_y': 'well_lat', 'well_lon_y': 'well_lon'}, inplace=True)\n",
    "\n",
    "# Display the new DataFrame\n",
    "print(filtered_data.head())\n"
   ],
   "id": "8557f1e8cf491718",
   "outputs": [
    {
     "name": "stdout",
     "output_type": "stream",
     "text": [
      "           well_id        date          wte     gse     gage_id   well_lat  \\\n",
      "0  394643111291401  1971-09-15  5953.300000  5955.0  10152000.0  39.778571   \n",
      "1  394643111291401  1971-09-16  5953.312390  5955.0  10152000.0  39.778571   \n",
      "2  394643111291401  1971-09-17  5953.324794  5955.0  10152000.0  39.778571   \n",
      "3  394643111291401  1971-09-18  5953.337211  5955.0  10152000.0  39.778571   \n",
      "4  394643111291401  1971-09-19  5953.349641  5955.0  10152000.0  39.778571   \n",
      "\n",
      "    well_lon  \n",
      "0 -111.48797  \n",
      "1 -111.48797  \n",
      "2 -111.48797  \n",
      "3 -111.48797  \n",
      "4 -111.48797  \n"
     ]
    }
   ],
   "execution_count": 6
  },
  {
   "metadata": {
    "ExecuteTime": {
     "end_time": "2025-08-13T05:53:16.936965Z",
     "start_time": "2025-08-13T05:53:16.921296Z"
    }
   },
   "cell_type": "code",
   "source": [
    "gage_info = pd.read_csv('../data/raw/streamflow/gsl_nwm_gage.csv')\n",
    "gage_info"
   ],
   "id": "2d1303bfbf6ea762",
   "outputs": [
    {
     "data": {
      "text/plain": [
       "          id                                               name  \\\n",
       "0   10011200  WEST FORK BEAR RIVER AT WHITNEY DAM - NR OAKLE...   \n",
       "1   10011500            BEAR RIVER NEAR UTAH-WYOMING STATE LINE   \n",
       "2   10015700  SULPHUR CR.AB.RES.BL.LA CHAPELLE CR.NR EVANSTO...   \n",
       "3   10015900       SULPHUR CREEK BL RES. - NEAR EVANSTON - WYO.   \n",
       "4   10016900                        BEAR RIVER AT EVANSTON - WY   \n",
       "..       ...                                                ...   \n",
       "73  10168500           BIG COTTONWOOD CR NR SALT LAKE CITY UTAH   \n",
       "74  10171000    JORDAN RIVER @ 1700 SOUTH @ SALT LAKE CITY - UT   \n",
       "75  10172700                      VERNON CREEK NEAR VERNON - UT   \n",
       "76  10172860                         WARM CREEK NEAR GANDY - UT   \n",
       "77  10172952                   DUNN CREEK NEAR PARK VALLEY - UT   \n",
       "\n",
       "                      River   latitude   longitude  elevation_m    state  \n",
       "0      WEST FORK BEAR RIVER  40.841614 -110.927119         2797     Utah  \n",
       "1                BEAR RIVER  40.965225 -110.853508         2432     Utah  \n",
       "2             SULPHUR CREEK  41.129114 -110.806563         2205  Wyoming  \n",
       "3             SULPHUR CREEK  41.156058 -110.835176         2173  Wyoming  \n",
       "4                BEAR RIVER  41.270224 -110.963793         2057  Wyoming  \n",
       "..                      ...        ...         ...          ...      ...  \n",
       "73  LITTLE COTTONWOOD CREEK  40.618559 -111.781876         1527     Utah  \n",
       "74             JORDAN RIVER  40.733557 -111.923270         1294     Utah  \n",
       "75             VERNON CREEK  39.979391 -112.380230         1898     Utah  \n",
       "76               WARM CREEK  39.459528 -114.023722         1573     Utah  \n",
       "77               DUNN CREEK  41.858530 -113.327219         1910     Utah  \n",
       "\n",
       "[78 rows x 7 columns]"
      ],
      "text/html": [
       "<div>\n",
       "<style scoped>\n",
       "    .dataframe tbody tr th:only-of-type {\n",
       "        vertical-align: middle;\n",
       "    }\n",
       "\n",
       "    .dataframe tbody tr th {\n",
       "        vertical-align: top;\n",
       "    }\n",
       "\n",
       "    .dataframe thead th {\n",
       "        text-align: right;\n",
       "    }\n",
       "</style>\n",
       "<table border=\"1\" class=\"dataframe\">\n",
       "  <thead>\n",
       "    <tr style=\"text-align: right;\">\n",
       "      <th></th>\n",
       "      <th>id</th>\n",
       "      <th>name</th>\n",
       "      <th>River</th>\n",
       "      <th>latitude</th>\n",
       "      <th>longitude</th>\n",
       "      <th>elevation_m</th>\n",
       "      <th>state</th>\n",
       "    </tr>\n",
       "  </thead>\n",
       "  <tbody>\n",
       "    <tr>\n",
       "      <th>0</th>\n",
       "      <td>10011200</td>\n",
       "      <td>WEST FORK BEAR RIVER AT WHITNEY DAM - NR OAKLE...</td>\n",
       "      <td>WEST FORK BEAR RIVER</td>\n",
       "      <td>40.841614</td>\n",
       "      <td>-110.927119</td>\n",
       "      <td>2797</td>\n",
       "      <td>Utah</td>\n",
       "    </tr>\n",
       "    <tr>\n",
       "      <th>1</th>\n",
       "      <td>10011500</td>\n",
       "      <td>BEAR RIVER NEAR UTAH-WYOMING STATE LINE</td>\n",
       "      <td>BEAR RIVER</td>\n",
       "      <td>40.965225</td>\n",
       "      <td>-110.853508</td>\n",
       "      <td>2432</td>\n",
       "      <td>Utah</td>\n",
       "    </tr>\n",
       "    <tr>\n",
       "      <th>2</th>\n",
       "      <td>10015700</td>\n",
       "      <td>SULPHUR CR.AB.RES.BL.LA CHAPELLE CR.NR EVANSTO...</td>\n",
       "      <td>SULPHUR CREEK</td>\n",
       "      <td>41.129114</td>\n",
       "      <td>-110.806563</td>\n",
       "      <td>2205</td>\n",
       "      <td>Wyoming</td>\n",
       "    </tr>\n",
       "    <tr>\n",
       "      <th>3</th>\n",
       "      <td>10015900</td>\n",
       "      <td>SULPHUR CREEK BL RES. - NEAR EVANSTON - WYO.</td>\n",
       "      <td>SULPHUR CREEK</td>\n",
       "      <td>41.156058</td>\n",
       "      <td>-110.835176</td>\n",
       "      <td>2173</td>\n",
       "      <td>Wyoming</td>\n",
       "    </tr>\n",
       "    <tr>\n",
       "      <th>4</th>\n",
       "      <td>10016900</td>\n",
       "      <td>BEAR RIVER AT EVANSTON - WY</td>\n",
       "      <td>BEAR RIVER</td>\n",
       "      <td>41.270224</td>\n",
       "      <td>-110.963793</td>\n",
       "      <td>2057</td>\n",
       "      <td>Wyoming</td>\n",
       "    </tr>\n",
       "    <tr>\n",
       "      <th>...</th>\n",
       "      <td>...</td>\n",
       "      <td>...</td>\n",
       "      <td>...</td>\n",
       "      <td>...</td>\n",
       "      <td>...</td>\n",
       "      <td>...</td>\n",
       "      <td>...</td>\n",
       "    </tr>\n",
       "    <tr>\n",
       "      <th>73</th>\n",
       "      <td>10168500</td>\n",
       "      <td>BIG COTTONWOOD CR NR SALT LAKE CITY UTAH</td>\n",
       "      <td>LITTLE COTTONWOOD CREEK</td>\n",
       "      <td>40.618559</td>\n",
       "      <td>-111.781876</td>\n",
       "      <td>1527</td>\n",
       "      <td>Utah</td>\n",
       "    </tr>\n",
       "    <tr>\n",
       "      <th>74</th>\n",
       "      <td>10171000</td>\n",
       "      <td>JORDAN RIVER @ 1700 SOUTH @ SALT LAKE CITY - UT</td>\n",
       "      <td>JORDAN RIVER</td>\n",
       "      <td>40.733557</td>\n",
       "      <td>-111.923270</td>\n",
       "      <td>1294</td>\n",
       "      <td>Utah</td>\n",
       "    </tr>\n",
       "    <tr>\n",
       "      <th>75</th>\n",
       "      <td>10172700</td>\n",
       "      <td>VERNON CREEK NEAR VERNON - UT</td>\n",
       "      <td>VERNON CREEK</td>\n",
       "      <td>39.979391</td>\n",
       "      <td>-112.380230</td>\n",
       "      <td>1898</td>\n",
       "      <td>Utah</td>\n",
       "    </tr>\n",
       "    <tr>\n",
       "      <th>76</th>\n",
       "      <td>10172860</td>\n",
       "      <td>WARM CREEK NEAR GANDY - UT</td>\n",
       "      <td>WARM CREEK</td>\n",
       "      <td>39.459528</td>\n",
       "      <td>-114.023722</td>\n",
       "      <td>1573</td>\n",
       "      <td>Utah</td>\n",
       "    </tr>\n",
       "    <tr>\n",
       "      <th>77</th>\n",
       "      <td>10172952</td>\n",
       "      <td>DUNN CREEK NEAR PARK VALLEY - UT</td>\n",
       "      <td>DUNN CREEK</td>\n",
       "      <td>41.858530</td>\n",
       "      <td>-113.327219</td>\n",
       "      <td>1910</td>\n",
       "      <td>Utah</td>\n",
       "    </tr>\n",
       "  </tbody>\n",
       "</table>\n",
       "<p>78 rows × 7 columns</p>\n",
       "</div>"
      ]
     },
     "execution_count": 7,
     "metadata": {},
     "output_type": "execute_result"
    }
   ],
   "execution_count": 7
  },
  {
   "metadata": {
    "ExecuteTime": {
     "end_time": "2025-08-13T05:57:22.103003Z",
     "start_time": "2025-08-13T05:57:21.680491Z"
    }
   },
   "cell_type": "code",
   "source": [
    "# Merge gage_info with filtered_data to add gage coordinates\n",
    "filtered_data = pd.merge(\n",
    "    filtered_data,\n",
    "    gage_info[['id', 'latitude', 'longitude']],\n",
    "    left_on='gage_id',\n",
    "    right_on='id',\n",
    "    how='left'\n",
    ")\n",
    "\n",
    "# Rename the columns\n",
    "filtered_data.rename(columns={\n",
    "    'latitude': 'gage_lat',\n",
    "    'longitude': 'gage_lon'\n",
    "}, inplace=True)\n",
    "\n",
    "# Drop the redundant id column\n",
    "filtered_data.drop('id', axis=1, inplace=True)\n"
   ],
   "id": "c722fd287eb584f2",
   "outputs": [],
   "execution_count": 9
  },
  {
   "metadata": {
    "ExecuteTime": {
     "end_time": "2025-08-13T05:57:55.325006Z",
     "start_time": "2025-08-13T05:57:38.428133Z"
    }
   },
   "cell_type": "code",
   "source": "filtered_data.to_csv('../data/processed/after_buffer1.csv', index=False)",
   "id": "9336519141fee848",
   "outputs": [],
   "execution_count": 10
  },
  {
   "metadata": {
    "ExecuteTime": {
     "end_time": "2025-08-13T05:58:50.694401Z",
     "start_time": "2025-08-13T05:58:50.648193Z"
    }
   },
   "cell_type": "code",
   "source": [
    "# Calculate the number of unique wells\n",
    "unique_wells_count = filtered_data['well_id'].nunique()\n",
    "\n",
    "# Display the result\n",
    "print(f\"Number of unique wells: {unique_wells_count}\")\n",
    "\n",
    "unique_gages_count = filtered_data['gage_id'].nunique()\n",
    "print(f\"Number of unique gages: {unique_gages_count}\")"
   ],
   "id": "966595cff17fec2d",
   "outputs": [
    {
     "name": "stdout",
     "output_type": "stream",
     "text": [
      "Number of unique wells: 635\n",
      "Number of unique gages: 7\n"
     ]
    }
   ],
   "execution_count": 12
  },
  {
   "metadata": {},
   "cell_type": "markdown",
   "source": "# buffer2",
   "id": "e8c60dac38f6bb58"
  },
  {
   "metadata": {
    "ExecuteTime": {
     "end_time": "2025-08-13T06:52:48.582107Z",
     "start_time": "2025-08-13T06:52:48.053738Z"
    }
   },
   "cell_type": "code",
   "source": [
    "import pandas as pd\n",
    "import numpy as np\n",
    "\n",
    "def filter_and_analyze_wte(filtered_data, merged_df, distance_buffer_meters=30, delta_bins=None):\n",
    "    # Convert WTE from feet to meters\n",
    "    filtered_data['wte_meters'] = filtered_data['wte'] * 0.3048\n",
    "\n",
    "    # Merge filtered_data with merged_df to get reach_elev\n",
    "    merged_data = pd.merge(\n",
    "        filtered_data,\n",
    "        merged_df[['well_id', 'reach_elev_m']],\n",
    "        on='well_id',\n",
    "        how='inner'\n",
    "    )\n",
    "\n",
    "    # Calculate the difference between reach elevation and WTE\n",
    "    merged_data['delta_elev'] = merged_data['reach_elev_m'] - merged_data['wte_meters']\n",
    "\n",
    "    # Filter out values where the difference is greater than the distance buffer\n",
    "    filtered_result = merged_data[merged_data['delta_elev'] <= distance_buffer_meters]\n",
    "\n",
    "    # Define default delta bins if not provided\n",
    "    if delta_bins is None:\n",
    "        delta_bins = [-float('inf'), -20, -10, -5, 0, 5, 10, 20, 30, 50, 75, 100, float('inf')]\n",
    "\n",
    "    # Bin the delta_elev values\n",
    "    bin_labels = [f\"< {delta_bins[1]}\"] + \\\n",
    "                 [f\"{delta_bins[i]} to {delta_bins[i+1]}\" for i in range(1, len(delta_bins)-2)] + \\\n",
    "                 [f\">= {delta_bins[-2]}\"]\n",
    "    filtered_result['delta_bin'] = pd.cut(filtered_result['delta_elev'], bins=delta_bins, labels=bin_labels)\n",
    "\n",
    "    # Calculate statistics\n",
    "    total_measurements = len(filtered_result)\n",
    "    dist_stats = filtered_result.groupby('delta_bin').size().reset_index(name='count')\n",
    "    dist_stats['percentage'] = (dist_stats['count'] / total_measurements * 100).round(2)\n",
    "\n",
    "    # Display statistics\n",
    "    print(dist_stats)\n",
    "\n",
    "    return filtered_result, dist_stats\n",
    "\n",
    "# Example usage\n",
    "filtered_data = pd.read_csv('../data/processed/after_buffer1.csv')  # Load your filtered data\n",
    "merged_df = pd.read_csv('../data/processed/well_reach.csv')  # Load the merged data with reach_elev\n",
    "# filtered_result, dist_stats = filter_and_analyze_wte(filtered_data, merged_df, distance_buffer_meters=30)\n"
   ],
   "id": "cb2f0c0f57445e6b",
   "outputs": [],
   "execution_count": 21
  },
  {
   "metadata": {
    "ExecuteTime": {
     "end_time": "2025-08-13T06:52:50.303761Z",
     "start_time": "2025-08-13T06:52:50.261324Z"
    }
   },
   "cell_type": "code",
   "source": "filtered_result, dist_stats = filter_and_analyze_wte(filtered_data, merged_df, distance_buffer_meters=10000)",
   "id": "3a68bd7b7aaa52db",
   "outputs": [
    {
     "name": "stdout",
     "output_type": "stream",
     "text": [
      "     delta_bin  count  percentage\n",
      "0        < -20      0         NaN\n",
      "1   -20 to -10      0         NaN\n",
      "2    -10 to -5      0         NaN\n",
      "3      -5 to 0      0         NaN\n",
      "4       0 to 5      0         NaN\n",
      "5      5 to 10      0         NaN\n",
      "6     10 to 20      0         NaN\n",
      "7     20 to 30      0         NaN\n",
      "8     30 to 50      0         NaN\n",
      "9     50 to 75      0         NaN\n",
      "10   75 to 100      0         NaN\n",
      "11      >= 100      0         NaN\n"
     ]
    },
    {
     "name": "stderr",
     "output_type": "stream",
     "text": [
      "/var/folders/fk/mzjttwrn7rn5nvcfhpgm4mrc0000gq/T/ipykernel_13546/3223962800.py:34: FutureWarning: The default of observed=False is deprecated and will be changed to True in a future version of pandas. Pass observed=False to retain current behavior or observed=True to adopt the future default and silence this warning.\n",
      "  dist_stats = filtered_result.groupby('delta_bin').size().reset_index(name='count')\n"
     ]
    }
   ],
   "execution_count": 22
  },
  {
   "metadata": {
    "ExecuteTime": {
     "end_time": "2025-08-13T06:20:27.937079Z",
     "start_time": "2025-08-13T06:20:27.929560Z"
    }
   },
   "cell_type": "code",
   "source": "filtered_result",
   "id": "85186d4690435b72",
   "outputs": [
    {
     "data": {
      "text/plain": [
       "Empty DataFrame\n",
       "Columns: [well_id, date, wte, gse, gage_id, well_lat, well_lon, gage_lat, gage_lon, wte_meters, reach_elev_m, delta_elev, delta_bin]\n",
       "Index: []"
      ],
      "text/html": [
       "<div>\n",
       "<style scoped>\n",
       "    .dataframe tbody tr th:only-of-type {\n",
       "        vertical-align: middle;\n",
       "    }\n",
       "\n",
       "    .dataframe tbody tr th {\n",
       "        vertical-align: top;\n",
       "    }\n",
       "\n",
       "    .dataframe thead th {\n",
       "        text-align: right;\n",
       "    }\n",
       "</style>\n",
       "<table border=\"1\" class=\"dataframe\">\n",
       "  <thead>\n",
       "    <tr style=\"text-align: right;\">\n",
       "      <th></th>\n",
       "      <th>well_id</th>\n",
       "      <th>date</th>\n",
       "      <th>wte</th>\n",
       "      <th>gse</th>\n",
       "      <th>gage_id</th>\n",
       "      <th>well_lat</th>\n",
       "      <th>well_lon</th>\n",
       "      <th>gage_lat</th>\n",
       "      <th>gage_lon</th>\n",
       "      <th>wte_meters</th>\n",
       "      <th>reach_elev_m</th>\n",
       "      <th>delta_elev</th>\n",
       "      <th>delta_bin</th>\n",
       "    </tr>\n",
       "  </thead>\n",
       "  <tbody>\n",
       "  </tbody>\n",
       "</table>\n",
       "</div>"
      ]
     },
     "execution_count": 18,
     "metadata": {},
     "output_type": "execute_result"
    }
   ],
   "execution_count": 18
  },
  {
   "metadata": {},
   "cell_type": "code",
   "outputs": [],
   "execution_count": null,
   "source": "",
   "id": "caa0673414248331"
  }
 ],
 "metadata": {
  "kernelspec": {
   "display_name": "Python 3",
   "language": "python",
   "name": "python3"
  },
  "language_info": {
   "codemirror_mode": {
    "name": "ipython",
    "version": 2
   },
   "file_extension": ".py",
   "mimetype": "text/x-python",
   "name": "python",
   "nbconvert_exporter": "python",
   "pygments_lexer": "ipython2",
   "version": "2.7.6"
  }
 },
 "nbformat": 4,
 "nbformat_minor": 5
}
