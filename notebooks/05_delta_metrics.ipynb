{
 "cells": [
  {
   "metadata": {},
   "cell_type": "markdown",
   "source": "# find the first bfd=1 wte",
   "id": "8887a4aecc775623"
  },
  {
   "metadata": {},
   "cell_type": "code",
   "outputs": [],
   "execution_count": null,
   "source": "",
   "id": "992c8ca5216bd990"
  },
  {
   "cell_type": "code",
   "execution_count": null,
   "id": "initial_id",
   "metadata": {
    "collapsed": true
   },
   "outputs": [],
   "source": [
    "import pandas as pd\n",
    "\n",
    "# Ensure 'date' is in datetime format\n",
    "q_buffer2_pair['date'] = pd.to_datetime(q_buffer2_pair['date'])\n",
    "\n",
    "# Sort by date to ensure chronological order\n",
    "q_buffer2_pair = q_buffer2_pair.sort_values(by='date')\n",
    "\n",
    "# Find the first occurrence of bfd=1 for each well and get the corresponding wte0 and q0\n",
    "first_bfd_1 = q_buffer2_pair[q_buffer2_pair['bfd'] == 1].groupby('well_id').first().reset_index()\n",
    "\n",
    "# Create a mapping of well_id to wte0 and q0\n",
    "wte0_map = first_bfd_1.set_index('well_id')['wte'].to_dict()\n",
    "q0_map = first_bfd_1.set_index('well_id')['q'].to_dict()\n",
    "\n",
    "# Calculate delta_wte and delta_q directly in q_buffer2_pair\n",
    "q_buffer2_pair['wte0'] = q_buffer2_pair['well_id'].map(wte0_map)\n",
    "q_buffer2_pair['q0'] = q_buffer2_pair['well_id'].map(q0_map)\n",
    "\n",
    "q_buffer2_pair['delta_wte'] = q_buffer2_pair['wte'] - q_buffer2_pair['wte0']\n",
    "q_buffer2_pair['delta_q'] = q_buffer2_pair['q'] - q_buffer2_pair['q0']\n",
    "\n",
    "\n"
   ]
  },
  {
   "metadata": {},
   "cell_type": "code",
   "outputs": [],
   "execution_count": null,
   "source": "q_buffer2_pair",
   "id": "a4826af036ae32f1"
  }
 ],
 "metadata": {
  "kernelspec": {
   "display_name": "Python 3",
   "language": "python",
   "name": "python3"
  },
  "language_info": {
   "codemirror_mode": {
    "name": "ipython",
    "version": 2
   },
   "file_extension": ".py",
   "mimetype": "text/x-python",
   "name": "python",
   "nbconvert_exporter": "python",
   "pygments_lexer": "ipython2",
   "version": "2.7.6"
  }
 },
 "nbformat": 4,
 "nbformat_minor": 5
}
