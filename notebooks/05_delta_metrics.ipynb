{
 "cells": [
  {
   "metadata": {},
   "cell_type": "markdown",
   "source": "# find wte0 and q0",
   "id": "8887a4aecc775623"
  },
  {
   "metadata": {},
   "cell_type": "code",
   "outputs": [],
   "execution_count": null,
   "source": "import pandas as pd",
   "id": "26ab8e44d7df4101"
  },
  {
   "metadata": {},
   "cell_type": "code",
   "outputs": [],
   "execution_count": null,
   "source": "q_buffer2_pair=pd.read_csv('../data/processed/q_buffer2_pair_30m.csv')",
   "id": "992c8ca5216bd990"
  },
  {
   "cell_type": "code",
   "execution_count": null,
   "id": "initial_id",
   "metadata": {
    "collapsed": true
   },
   "outputs": [],
   "source": [
    "\n",
    "\n",
    "# Ensure 'date' is in datetime format\n",
    "q_buffer2_pair['date'] = pd.to_datetime(q_buffer2_pair['date'])\n",
    "\n",
    "# Sort by date to ensure chronological order\n",
    "q_buffer2_pair = q_buffer2_pair.sort_values(by='date')\n",
    "\n",
    "# Find the first occurrence of bfd=1 for each well and get the corresponding wte0 and q0\n",
    "first_bfd_1 = q_buffer2_pair[q_buffer2_pair['bfd'] == 1].groupby('well_id').first().reset_index()\n",
    "\n",
    "# Create a mapping of well_id to wte0 and q0\n",
    "wte0_map = first_bfd_1.set_index('well_id')['wte'].to_dict()\n",
    "q0_map = first_bfd_1.set_index('well_id')['q'].to_dict()\n",
    "\n",
    "# Calculate delta_wte and delta_q directly in q_buffer2_pair\n",
    "q_buffer2_pair['wte0'] = q_buffer2_pair['well_id'].map(wte0_map)\n",
    "q_buffer2_pair['q0'] = q_buffer2_pair['well_id'].map(q0_map)\n"
   ]
  },
  {
   "metadata": {},
   "cell_type": "markdown",
   "source": "# compute the delta",
   "id": "5bf941b10de0ad14"
  },
  {
   "metadata": {},
   "cell_type": "code",
   "outputs": [],
   "execution_count": null,
   "source": [
    "q_buffer2_pair['delta_wte'] = q_buffer2_pair['wte'] - q_buffer2_pair['wte0']\n",
    "q_buffer2_pair['delta_q'] = q_buffer2_pair['q'] - q_buffer2_pair['q0']"
   ],
   "id": "8f6177cd9955c297"
  },
  {
   "metadata": {},
   "cell_type": "code",
   "outputs": [],
   "execution_count": null,
   "source": "q_buffer2_pair",
   "id": "a4826af036ae32f1"
  },
  {
   "metadata": {},
   "cell_type": "code",
   "outputs": [],
   "execution_count": null,
   "source": [
    "# Drop the temporary columns if needed\n",
    "q_buffer2_pair.drop(columns=['wte0', 'q0'], inplace=True)\n",
    "\n",
    "# Display the resulting DataFrame with the new columns\n",
    "q_buffer2_pair.head()"
   ],
   "id": "44e45cf015e06901"
  },
  {
   "metadata": {},
   "cell_type": "code",
   "outputs": [],
   "execution_count": null,
   "source": "q_buffer2_pair.to_csv('downstream/all/q_buffer2_pair_delta_30m.csv', index=False)",
   "id": "ea3557e86dd57e4d"
  }
 ],
 "metadata": {
  "kernelspec": {
   "display_name": "Python 3",
   "language": "python",
   "name": "python3"
  },
  "language_info": {
   "codemirror_mode": {
    "name": "ipython",
    "version": 2
   },
   "file_extension": ".py",
   "mimetype": "text/x-python",
   "name": "python",
   "nbconvert_exporter": "python",
   "pygments_lexer": "ipython2",
   "version": "2.7.6"
  }
 },
 "nbformat": 4,
 "nbformat_minor": 5
}
